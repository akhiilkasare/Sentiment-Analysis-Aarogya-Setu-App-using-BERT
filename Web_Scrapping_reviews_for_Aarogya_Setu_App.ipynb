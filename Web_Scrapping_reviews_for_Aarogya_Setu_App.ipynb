{
  "nbformat": 4,
  "nbformat_minor": 0,
  "metadata": {
    "colab": {
      "name": "Web Scrapping reviews for Aarogya Setu App.ipynb",
      "provenance": [],
      "collapsed_sections": [],
      "authorship_tag": "ABX9TyMOCrCz0tGzY0zr78hOD8bn",
      "include_colab_link": true
    },
    "kernelspec": {
      "name": "python3",
      "display_name": "Python 3"
    }
  },
  "cells": [
    {
      "cell_type": "markdown",
      "metadata": {
        "id": "view-in-github",
        "colab_type": "text"
      },
      "source": [
        "<a href=\"https://colab.research.google.com/github/akhiilkasare/Sentiment-Analysis-Aarogya-Setu-App-using-BERT/blob/main/Web_Scrapping_reviews_for_Aarogya_Setu_App.ipynb\" target=\"_parent\"><img src=\"https://colab.research.google.com/assets/colab-badge.svg\" alt=\"Open In Colab\"/></a>"
      ]
    },
    {
      "cell_type": "code",
      "metadata": {
        "id": "x8XYjYE_X0gt",
        "outputId": "b0328877-2836-477e-e002-37f989bd8d7d",
        "colab": {
          "base_uri": "https://localhost:8080/"
        }
      },
      "source": [
        "!pip install -qq google-play-scraper"
      ],
      "execution_count": 1,
      "outputs": [
        {
          "output_type": "stream",
          "text": [
            "\u001b[?25l\r\u001b[K     |██████▋                         | 10kB 22.1MB/s eta 0:00:01\r\u001b[K     |█████████████▎                  | 20kB 4.6MB/s eta 0:00:01\r\u001b[K     |████████████████████            | 30kB 6.4MB/s eta 0:00:01\r\u001b[K     |██████████████████████████▋     | 40kB 7.4MB/s eta 0:00:01\r\u001b[K     |████████████████████████████████| 51kB 3.0MB/s \n",
            "\u001b[?25h  Building wheel for google-play-scraper (setup.py) ... \u001b[?25l\u001b[?25hdone\n"
          ],
          "name": "stdout"
        }
      ]
    },
    {
      "cell_type": "code",
      "metadata": {
        "id": "MXomJST8O6Jt"
      },
      "source": [
        "import json\n",
        "import pandas as pd\n",
        "from tqdm import tqdm\n",
        "\n",
        "import seaborn as sns\n",
        "import matplotlib.pyplot as plt\n",
        "\n",
        "from pygments import highlight\n",
        "from pygments.lexers import JsonLexer\n",
        "from pygments.formatters import TerminalFormatter\n",
        "\n",
        "from google_play_scraper import Sort, reviews, app\n",
        "\n",
        "%matplotlib inline \n",
        "%config InlineBackend.figure_format = 'retina'\n",
        "\n",
        "sns.set(style='whitegrid', palette='muted', font_scale=1.2)"
      ],
      "execution_count": 2,
      "outputs": []
    },
    {
      "cell_type": "code",
      "metadata": {
        "id": "PhUAe3JmSNyz"
      },
      "source": [
        "app_packages = [\n",
        "      'nic.goi.aarogyasetu'\n",
        "]"
      ],
      "execution_count": 3,
      "outputs": []
    },
    {
      "cell_type": "code",
      "metadata": {
        "id": "h97eWYFuTIi_",
        "outputId": "cf38cae4-0967-49ed-c4e3-391444197825",
        "colab": {
          "base_uri": "https://localhost:8080/"
        }
      },
      "source": [
        "app_info = []\n",
        "\n",
        "for ap in tqdm(app_packages):\n",
        "  info = app(ap, lang='en', country='in')\n",
        "  del info['comments']\n",
        "  app_info.append(info)"
      ],
      "execution_count": 4,
      "outputs": [
        {
          "output_type": "stream",
          "text": [
            "100%|██████████| 1/1 [00:00<00:00,  5.66it/s]\n"
          ],
          "name": "stderr"
        }
      ]
    },
    {
      "cell_type": "code",
      "metadata": {
        "id": "N_dGIThyUIzu"
      },
      "source": [
        "def print_json(json_object):\n",
        "  json_str = json.dumps(\n",
        "      json_object,\n",
        "      indent=2,\n",
        "      sort_keys=True,\n",
        "      default=str\n",
        "  )\n",
        "  print(highlight(json_str, JsonLexer(), TerminalFormatter()))"
      ],
      "execution_count": 5,
      "outputs": []
    },
    {
      "cell_type": "code",
      "metadata": {
        "id": "TLr2Ms__V346",
        "outputId": "fa790643-cb44-4fac-caee-70c6673642cf",
        "colab": {
          "base_uri": "https://localhost:8080/"
        }
      },
      "source": [
        "print_json(app_info[0])"
      ],
      "execution_count": 6,
      "outputs": [
        {
          "output_type": "stream",
          "text": [
            "{\n",
            "  \u001b[94m\"adSupported\"\u001b[39;49;00m: \u001b[34mnull\u001b[39;49;00m,\n",
            "  \u001b[94m\"androidVersion\"\u001b[39;49;00m: \u001b[33m\"5.0\"\u001b[39;49;00m,\n",
            "  \u001b[94m\"androidVersionText\"\u001b[39;49;00m: \u001b[33m\"5.0 and up\"\u001b[39;49;00m,\n",
            "  \u001b[94m\"appId\"\u001b[39;49;00m: \u001b[33m\"nic.goi.aarogyasetu\"\u001b[39;49;00m,\n",
            "  \u001b[94m\"containsAds\"\u001b[39;49;00m: \u001b[34mfalse\u001b[39;49;00m,\n",
            "  \u001b[94m\"contentRating\"\u001b[39;49;00m: \u001b[33m\"Rated for 3+\"\u001b[39;49;00m,\n",
            "  \u001b[94m\"contentRatingDescription\"\u001b[39;49;00m: \u001b[34mnull\u001b[39;49;00m,\n",
            "  \u001b[94m\"currency\"\u001b[39;49;00m: \u001b[33m\"USD\"\u001b[39;49;00m,\n",
            "  \u001b[94m\"description\"\u001b[39;49;00m: \u001b[33m\"Aarogya Setu is a mobile application developed by the Government of India to connect essential health services with the people of India in our combined fight against COVID-19. The App is aimed at augmenting the initiatives of the Government of India, particularly the Department of Health, in proactively reaching out to and informing the users of the app regarding risks, best practices and relevant advisories pertaining to the containment of COVID-19.\"\u001b[39;49;00m,\n",
            "  \u001b[94m\"descriptionHTML\"\u001b[39;49;00m: \u001b[33m\"Aarogya Setu is a mobile application developed by the Government of India to connect essential health services with the people of India in our combined fight against COVID-19. The App is aimed at augmenting the initiatives of the Government of India, particularly the Department of Health, in proactively reaching out to and informing the users of the app regarding risks, best practices and relevant advisories pertaining to the containment of COVID-19.\"\u001b[39;49;00m,\n",
            "  \u001b[94m\"developer\"\u001b[39;49;00m: \u001b[33m\"NIC eGov Mobile Apps\"\u001b[39;49;00m,\n",
            "  \u001b[94m\"developerAddress\"\u001b[39;49;00m: \u001b[33m\"NIC\"\u001b[39;49;00m,\n",
            "  \u001b[94m\"developerEmail\"\u001b[39;49;00m: \u001b[33m\"support.aarogyasetu@gov.in\"\u001b[39;49;00m,\n",
            "  \u001b[94m\"developerId\"\u001b[39;49;00m: \u001b[33m\"9076108670215860604\"\u001b[39;49;00m,\n",
            "  \u001b[94m\"developerInternalID\"\u001b[39;49;00m: \u001b[33m\"9076108670215860604\"\u001b[39;49;00m,\n",
            "  \u001b[94m\"developerWebsite\"\u001b[39;49;00m: \u001b[34mnull\u001b[39;49;00m,\n",
            "  \u001b[94m\"free\"\u001b[39;49;00m: \u001b[34mtrue\u001b[39;49;00m,\n",
            "  \u001b[94m\"genre\"\u001b[39;49;00m: \u001b[33m\"Health & Fitness\"\u001b[39;49;00m,\n",
            "  \u001b[94m\"genreId\"\u001b[39;49;00m: \u001b[33m\"HEALTH_AND_FITNESS\"\u001b[39;49;00m,\n",
            "  \u001b[94m\"headerImage\"\u001b[39;49;00m: \u001b[33m\"https://play-lh.googleusercontent.com/qonFxIPe496V7bwF-h3EEEBTaQGA1D_qArLoxbWQunNNxptdynIJim0pHjiUtv4XnokZ\"\u001b[39;49;00m,\n",
            "  \u001b[94m\"histogram\"\u001b[39;49;00m: [\n",
            "    \u001b[34m181844\u001b[39;49;00m,\n",
            "    \u001b[34m44959\u001b[39;49;00m,\n",
            "    \u001b[34m81322\u001b[39;49;00m,\n",
            "    \u001b[34m146922\u001b[39;49;00m,\n",
            "    \u001b[34m946271\u001b[39;49;00m\n",
            "  ],\n",
            "  \u001b[94m\"icon\"\u001b[39;49;00m: \u001b[33m\"https://play-lh.googleusercontent.com/2FV06dPOPcV-vupN9_9zqPn-pUUio-OzbnqktzIVCdkPcBRRtqo-k63G1DLgIeuJD1np\"\u001b[39;49;00m,\n",
            "  \u001b[94m\"inAppProductPrice\"\u001b[39;49;00m: \u001b[34mnull\u001b[39;49;00m,\n",
            "  \u001b[94m\"installs\"\u001b[39;49;00m: \u001b[33m\"100,000,000+\"\u001b[39;49;00m,\n",
            "  \u001b[94m\"minInstalls\"\u001b[39;49;00m: \u001b[34m100000000\u001b[39;49;00m,\n",
            "  \u001b[94m\"offersIAP\"\u001b[39;49;00m: \u001b[34mfalse\u001b[39;49;00m,\n",
            "  \u001b[94m\"originalPrice\"\u001b[39;49;00m: \u001b[34mnull\u001b[39;49;00m,\n",
            "  \u001b[94m\"price\"\u001b[39;49;00m: \u001b[34m0\u001b[39;49;00m,\n",
            "  \u001b[94m\"privacyPolicy\"\u001b[39;49;00m: \u001b[33m\"https://web.swaraksha.gov.in/ncv19/privacy/\"\u001b[39;49;00m,\n",
            "  \u001b[94m\"ratings\"\u001b[39;49;00m: \u001b[34m1401318\u001b[39;49;00m,\n",
            "  \u001b[94m\"recentChanges\"\u001b[39;49;00m: \u001b[34mnull\u001b[39;49;00m,\n",
            "  \u001b[94m\"recentChangesHTML\"\u001b[39;49;00m: \u001b[34mnull\u001b[39;49;00m,\n",
            "  \u001b[94m\"released\"\u001b[39;49;00m: \u001b[33m\"Apr 1, 2020\"\u001b[39;49;00m,\n",
            "  \u001b[94m\"reviews\"\u001b[39;49;00m: \u001b[34m433244\u001b[39;49;00m,\n",
            "  \u001b[94m\"sale\"\u001b[39;49;00m: \u001b[34mfalse\u001b[39;49;00m,\n",
            "  \u001b[94m\"saleText\"\u001b[39;49;00m: \u001b[34mnull\u001b[39;49;00m,\n",
            "  \u001b[94m\"saleTime\"\u001b[39;49;00m: \u001b[34mnull\u001b[39;49;00m,\n",
            "  \u001b[94m\"score\"\u001b[39;49;00m: \u001b[34m4.163772\u001b[39;49;00m,\n",
            "  \u001b[94m\"screenshots\"\u001b[39;49;00m: [\n",
            "    \u001b[33m\"https://play-lh.googleusercontent.com/EZUnZbmZbT5fSjWm33C4fDH6d_R6N77Cb68fXJTQieX3pfUPx8DievdIj0PKXqOZjgQ\"\u001b[39;49;00m,\n",
            "    \u001b[33m\"https://play-lh.googleusercontent.com/m62_6qijxSCiZ84OnV2eaaBp1l9Gl5U8hwjYklAKD4HzRPfUjui8agmZHxeZq1gIt9o\"\u001b[39;49;00m,\n",
            "    \u001b[33m\"https://play-lh.googleusercontent.com/5ynkNErE0nOShdV3McFLN9t8BeUDPti_ulwdky5cCvu_88N6hWyowQ45BZOZ6l0fK2fV\"\u001b[39;49;00m,\n",
            "    \u001b[33m\"https://play-lh.googleusercontent.com/A1raHlyVO8vME7WXu3tUxy7pfcnP4o8XxamOoA21xzcgD6bZMH9ffZMKz38bIaV0SWQd\"\u001b[39;49;00m,\n",
            "    \u001b[33m\"https://play-lh.googleusercontent.com/1slpHuBrnt6mPplqFxKe9EvladD1Gaop9uIi8odrgxAfWNdXIbvH9_-XtQBLds93Fg\"\u001b[39;49;00m,\n",
            "    \u001b[33m\"https://play-lh.googleusercontent.com/QYuY-tI4RORlUXX_DLZsLHJoAEmt0B4x-DVvxYgn2EyQxrC1zYpu4ENztcVGIQWIPlk\"\u001b[39;49;00m,\n",
            "    \u001b[33m\"https://play-lh.googleusercontent.com/faFK3V2Azi7EzQ_X5YE64KyvGh9PkJyp30y7nlfXP-OcrOJ9wGQWqkovXKjB6LHhWA\"\u001b[39;49;00m,\n",
            "    \u001b[33m\"https://play-lh.googleusercontent.com/mqlG9MYpjrrb0lRTu_aoeQ1uirfAr0Y4wicDlJHSAhFv0TJg1QAvC3uWfKck3dFLMxs\"\u001b[39;49;00m\n",
            "  ],\n",
            "  \u001b[94m\"size\"\u001b[39;49;00m: \u001b[33m\"4.2M\"\u001b[39;49;00m,\n",
            "  \u001b[94m\"summary\"\u001b[39;49;00m: \u001b[33m\"GoI\\u2019s app to connect health services with the people of India to fight COVID-19\"\u001b[39;49;00m,\n",
            "  \u001b[94m\"summaryHTML\"\u001b[39;49;00m: \u001b[33m\"GoI\\u2019s app to connect health services with the people of India to fight COVID-19\"\u001b[39;49;00m,\n",
            "  \u001b[94m\"title\"\u001b[39;49;00m: \u001b[33m\"Aarogya Setu\"\u001b[39;49;00m,\n",
            "  \u001b[94m\"updated\"\u001b[39;49;00m: \u001b[34m1594221933\u001b[39;49;00m,\n",
            "  \u001b[94m\"url\"\u001b[39;49;00m: \u001b[33m\"https://play.google.com/store/apps/details?id=nic.goi.aarogyasetu&hl=en&gl=in\"\u001b[39;49;00m,\n",
            "  \u001b[94m\"version\"\u001b[39;49;00m: \u001b[33m\"1.4.1\"\u001b[39;49;00m,\n",
            "  \u001b[94m\"video\"\u001b[39;49;00m: \u001b[34mnull\u001b[39;49;00m,\n",
            "  \u001b[94m\"videoImage\"\u001b[39;49;00m: \u001b[34mnull\u001b[39;49;00m\n",
            "}\n",
            "\n"
          ],
          "name": "stdout"
        }
      ]
    },
    {
      "cell_type": "code",
      "metadata": {
        "id": "nHGpibwkV-K4",
        "outputId": "153e5282-0513-40aa-b58e-9b8b54b8025c",
        "colab": {
          "base_uri": "https://localhost:8080/",
          "height": 205
        }
      },
      "source": [
        "app_info_df = pd.DataFrame(app_info)\n",
        "app_info_df.head()"
      ],
      "execution_count": 7,
      "outputs": [
        {
          "output_type": "execute_result",
          "data": {
            "text/html": [
              "<div>\n",
              "<style scoped>\n",
              "    .dataframe tbody tr th:only-of-type {\n",
              "        vertical-align: middle;\n",
              "    }\n",
              "\n",
              "    .dataframe tbody tr th {\n",
              "        vertical-align: top;\n",
              "    }\n",
              "\n",
              "    .dataframe thead th {\n",
              "        text-align: right;\n",
              "    }\n",
              "</style>\n",
              "<table border=\"1\" class=\"dataframe\">\n",
              "  <thead>\n",
              "    <tr style=\"text-align: right;\">\n",
              "      <th></th>\n",
              "      <th>title</th>\n",
              "      <th>description</th>\n",
              "      <th>descriptionHTML</th>\n",
              "      <th>summary</th>\n",
              "      <th>summaryHTML</th>\n",
              "      <th>installs</th>\n",
              "      <th>minInstalls</th>\n",
              "      <th>score</th>\n",
              "      <th>ratings</th>\n",
              "      <th>reviews</th>\n",
              "      <th>histogram</th>\n",
              "      <th>price</th>\n",
              "      <th>free</th>\n",
              "      <th>currency</th>\n",
              "      <th>sale</th>\n",
              "      <th>saleTime</th>\n",
              "      <th>originalPrice</th>\n",
              "      <th>saleText</th>\n",
              "      <th>offersIAP</th>\n",
              "      <th>inAppProductPrice</th>\n",
              "      <th>size</th>\n",
              "      <th>androidVersion</th>\n",
              "      <th>androidVersionText</th>\n",
              "      <th>developer</th>\n",
              "      <th>developerId</th>\n",
              "      <th>developerEmail</th>\n",
              "      <th>developerWebsite</th>\n",
              "      <th>developerAddress</th>\n",
              "      <th>privacyPolicy</th>\n",
              "      <th>developerInternalID</th>\n",
              "      <th>genre</th>\n",
              "      <th>genreId</th>\n",
              "      <th>icon</th>\n",
              "      <th>headerImage</th>\n",
              "      <th>screenshots</th>\n",
              "      <th>video</th>\n",
              "      <th>videoImage</th>\n",
              "      <th>contentRating</th>\n",
              "      <th>contentRatingDescription</th>\n",
              "      <th>adSupported</th>\n",
              "      <th>containsAds</th>\n",
              "      <th>released</th>\n",
              "      <th>updated</th>\n",
              "      <th>version</th>\n",
              "      <th>recentChanges</th>\n",
              "      <th>recentChangesHTML</th>\n",
              "      <th>appId</th>\n",
              "      <th>url</th>\n",
              "    </tr>\n",
              "  </thead>\n",
              "  <tbody>\n",
              "    <tr>\n",
              "      <th>0</th>\n",
              "      <td>Aarogya Setu</td>\n",
              "      <td>Aarogya Setu is a mobile application developed...</td>\n",
              "      <td>Aarogya Setu is a mobile application developed...</td>\n",
              "      <td>GoI’s app to connect health services with the ...</td>\n",
              "      <td>GoI’s app to connect health services with the ...</td>\n",
              "      <td>100,000,000+</td>\n",
              "      <td>100000000</td>\n",
              "      <td>4.163772</td>\n",
              "      <td>1401318</td>\n",
              "      <td>433244</td>\n",
              "      <td>[181844, 44959, 81322, 146922, 946271]</td>\n",
              "      <td>0</td>\n",
              "      <td>True</td>\n",
              "      <td>USD</td>\n",
              "      <td>False</td>\n",
              "      <td>None</td>\n",
              "      <td>None</td>\n",
              "      <td>None</td>\n",
              "      <td>False</td>\n",
              "      <td>None</td>\n",
              "      <td>4.2M</td>\n",
              "      <td>5.0</td>\n",
              "      <td>5.0 and up</td>\n",
              "      <td>NIC eGov Mobile Apps</td>\n",
              "      <td>9076108670215860604</td>\n",
              "      <td>support.aarogyasetu@gov.in</td>\n",
              "      <td>None</td>\n",
              "      <td>NIC</td>\n",
              "      <td>https://web.swaraksha.gov.in/ncv19/privacy/</td>\n",
              "      <td>9076108670215860604</td>\n",
              "      <td>Health &amp; Fitness</td>\n",
              "      <td>HEALTH_AND_FITNESS</td>\n",
              "      <td>https://play-lh.googleusercontent.com/2FV06dPO...</td>\n",
              "      <td>https://play-lh.googleusercontent.com/qonFxIPe...</td>\n",
              "      <td>[https://play-lh.googleusercontent.com/EZUnZbm...</td>\n",
              "      <td>None</td>\n",
              "      <td>None</td>\n",
              "      <td>Rated for 3+</td>\n",
              "      <td>None</td>\n",
              "      <td>None</td>\n",
              "      <td>False</td>\n",
              "      <td>Apr 1, 2020</td>\n",
              "      <td>1594221933</td>\n",
              "      <td>1.4.1</td>\n",
              "      <td>None</td>\n",
              "      <td>None</td>\n",
              "      <td>nic.goi.aarogyasetu</td>\n",
              "      <td>https://play.google.com/store/apps/details?id=...</td>\n",
              "    </tr>\n",
              "  </tbody>\n",
              "</table>\n",
              "</div>"
            ],
            "text/plain": [
              "          title  ...                                                url\n",
              "0  Aarogya Setu  ...  https://play.google.com/store/apps/details?id=...\n",
              "\n",
              "[1 rows x 48 columns]"
            ]
          },
          "metadata": {
            "tags": []
          },
          "execution_count": 7
        }
      ]
    },
    {
      "cell_type": "code",
      "metadata": {
        "id": "7m7yMHSWdCTh"
      },
      "source": [
        "app_info_df.to_csv('apps.csv', index=None, header=True)"
      ],
      "execution_count": 8,
      "outputs": []
    },
    {
      "cell_type": "code",
      "metadata": {
        "id": "qQi7E3OQe0vy",
        "outputId": "b238b250-80fe-481b-ab80-bee5f374d2a0",
        "colab": {
          "base_uri": "https://localhost:8080/",
          "height": 205
        }
      },
      "source": [
        "df = pd.read_csv('/content/apps.csv')\n",
        "df.head()"
      ],
      "execution_count": 9,
      "outputs": [
        {
          "output_type": "execute_result",
          "data": {
            "text/html": [
              "<div>\n",
              "<style scoped>\n",
              "    .dataframe tbody tr th:only-of-type {\n",
              "        vertical-align: middle;\n",
              "    }\n",
              "\n",
              "    .dataframe tbody tr th {\n",
              "        vertical-align: top;\n",
              "    }\n",
              "\n",
              "    .dataframe thead th {\n",
              "        text-align: right;\n",
              "    }\n",
              "</style>\n",
              "<table border=\"1\" class=\"dataframe\">\n",
              "  <thead>\n",
              "    <tr style=\"text-align: right;\">\n",
              "      <th></th>\n",
              "      <th>title</th>\n",
              "      <th>description</th>\n",
              "      <th>descriptionHTML</th>\n",
              "      <th>summary</th>\n",
              "      <th>summaryHTML</th>\n",
              "      <th>installs</th>\n",
              "      <th>minInstalls</th>\n",
              "      <th>score</th>\n",
              "      <th>ratings</th>\n",
              "      <th>reviews</th>\n",
              "      <th>histogram</th>\n",
              "      <th>price</th>\n",
              "      <th>free</th>\n",
              "      <th>currency</th>\n",
              "      <th>sale</th>\n",
              "      <th>saleTime</th>\n",
              "      <th>originalPrice</th>\n",
              "      <th>saleText</th>\n",
              "      <th>offersIAP</th>\n",
              "      <th>inAppProductPrice</th>\n",
              "      <th>size</th>\n",
              "      <th>androidVersion</th>\n",
              "      <th>androidVersionText</th>\n",
              "      <th>developer</th>\n",
              "      <th>developerId</th>\n",
              "      <th>developerEmail</th>\n",
              "      <th>developerWebsite</th>\n",
              "      <th>developerAddress</th>\n",
              "      <th>privacyPolicy</th>\n",
              "      <th>developerInternalID</th>\n",
              "      <th>genre</th>\n",
              "      <th>genreId</th>\n",
              "      <th>icon</th>\n",
              "      <th>headerImage</th>\n",
              "      <th>screenshots</th>\n",
              "      <th>video</th>\n",
              "      <th>videoImage</th>\n",
              "      <th>contentRating</th>\n",
              "      <th>contentRatingDescription</th>\n",
              "      <th>adSupported</th>\n",
              "      <th>containsAds</th>\n",
              "      <th>released</th>\n",
              "      <th>updated</th>\n",
              "      <th>version</th>\n",
              "      <th>recentChanges</th>\n",
              "      <th>recentChangesHTML</th>\n",
              "      <th>appId</th>\n",
              "      <th>url</th>\n",
              "    </tr>\n",
              "  </thead>\n",
              "  <tbody>\n",
              "    <tr>\n",
              "      <th>0</th>\n",
              "      <td>Aarogya Setu</td>\n",
              "      <td>Aarogya Setu is a mobile application developed...</td>\n",
              "      <td>Aarogya Setu is a mobile application developed...</td>\n",
              "      <td>GoI’s app to connect health services with the ...</td>\n",
              "      <td>GoI’s app to connect health services with the ...</td>\n",
              "      <td>100,000,000+</td>\n",
              "      <td>100000000</td>\n",
              "      <td>4.163772</td>\n",
              "      <td>1401318</td>\n",
              "      <td>433244</td>\n",
              "      <td>[181844, 44959, 81322, 146922, 946271]</td>\n",
              "      <td>0</td>\n",
              "      <td>True</td>\n",
              "      <td>USD</td>\n",
              "      <td>False</td>\n",
              "      <td>NaN</td>\n",
              "      <td>NaN</td>\n",
              "      <td>NaN</td>\n",
              "      <td>False</td>\n",
              "      <td>NaN</td>\n",
              "      <td>4.2M</td>\n",
              "      <td>5.0</td>\n",
              "      <td>5.0 and up</td>\n",
              "      <td>NIC eGov Mobile Apps</td>\n",
              "      <td>9076108670215860604</td>\n",
              "      <td>support.aarogyasetu@gov.in</td>\n",
              "      <td>NaN</td>\n",
              "      <td>NIC</td>\n",
              "      <td>https://web.swaraksha.gov.in/ncv19/privacy/</td>\n",
              "      <td>9076108670215860604</td>\n",
              "      <td>Health &amp; Fitness</td>\n",
              "      <td>HEALTH_AND_FITNESS</td>\n",
              "      <td>https://play-lh.googleusercontent.com/2FV06dPO...</td>\n",
              "      <td>https://play-lh.googleusercontent.com/qonFxIPe...</td>\n",
              "      <td>['https://play-lh.googleusercontent.com/EZUnZb...</td>\n",
              "      <td>NaN</td>\n",
              "      <td>NaN</td>\n",
              "      <td>Rated for 3+</td>\n",
              "      <td>NaN</td>\n",
              "      <td>NaN</td>\n",
              "      <td>False</td>\n",
              "      <td>Apr 1, 2020</td>\n",
              "      <td>1594221933</td>\n",
              "      <td>1.4.1</td>\n",
              "      <td>NaN</td>\n",
              "      <td>NaN</td>\n",
              "      <td>nic.goi.aarogyasetu</td>\n",
              "      <td>https://play.google.com/store/apps/details?id=...</td>\n",
              "    </tr>\n",
              "  </tbody>\n",
              "</table>\n",
              "</div>"
            ],
            "text/plain": [
              "          title  ...                                                url\n",
              "0  Aarogya Setu  ...  https://play.google.com/store/apps/details?id=...\n",
              "\n",
              "[1 rows x 48 columns]"
            ]
          },
          "metadata": {
            "tags": []
          },
          "execution_count": 9
        }
      ]
    },
    {
      "cell_type": "code",
      "metadata": {
        "id": "fqGpdQ3qfDbO",
        "outputId": "c5bd39b0-d3bb-4ed0-e26f-fefd813aa849",
        "colab": {
          "base_uri": "https://localhost:8080/"
        }
      },
      "source": [
        "app_reviews = []\n",
        "for ap in tqdm(app_packages):\n",
        "  for score in list(range(1, 6)):\n",
        "    for sort_order in [Sort.MOST_RELEVANT, Sort.NEWEST]:\n",
        "      rvs, _ = reviews(\n",
        "        ap,\n",
        "        lang='en',\n",
        "        country='in',\n",
        "        sort=sort_order,\n",
        "        count= 200 if score == 3 else 100,\n",
        "        filter_score_with=score\n",
        "      )\n",
        "      for r in rvs:\n",
        "        r['sortOrder'] = 'most_relevant' if sort_order == Sort.MOST_RELEVANT else 'newest'\n",
        "        r['appId'] = ap\n",
        "      app_reviews.extend(rvs)\n"
      ],
      "execution_count": 13,
      "outputs": [
        {
          "output_type": "stream",
          "text": [
            "100%|██████████| 1/1 [00:04<00:00,  4.94s/it]\n"
          ],
          "name": "stderr"
        }
      ]
    },
    {
      "cell_type": "code",
      "metadata": {
        "id": "P9oP9ersbzJA",
        "outputId": "bded480e-539f-4ca0-eb31-f986417d091d",
        "colab": {
          "base_uri": "https://localhost:8080/"
        }
      },
      "source": [
        "print_json(app_reviews[0])"
      ],
      "execution_count": 14,
      "outputs": [
        {
          "output_type": "stream",
          "text": [
            "{\n",
            "  \u001b[94m\"appId\"\u001b[39;49;00m: \u001b[33m\"nic.goi.aarogyasetu\"\u001b[39;49;00m,\n",
            "  \u001b[94m\"at\"\u001b[39;49;00m: \u001b[33m\"2020-10-30 20:22:17\"\u001b[39;49;00m,\n",
            "  \u001b[94m\"content\"\u001b[39;49;00m: \u001b[33m\"Totally useless app. If it has real time data on positive patients and their location, with my Bluetooth always on I expect that it warns me when I am in the vicinity. It does not. Moreover, now that I have 2 next door, it has no clue, it does not show them. It caused undue stress on me telling me I am at risk, two days after I may have crossed someone in a busy intersection. It is simply, ineffective, useless. I am not removing it only because some places want to check it.\"\u001b[39;49;00m,\n",
            "  \u001b[94m\"repliedAt\"\u001b[39;49;00m: \u001b[33m\"2020-10-31 04:27:48\"\u001b[39;49;00m,\n",
            "  \u001b[94m\"replyContent\"\u001b[39;49;00m: \u001b[33m\"The  Aarogya Setu App detects other devices with app installed that have come in the Bluetooth / GPS proximity of your phone and captures this information. In the unfortunate case of any of those recent contacts Test positive, the App calculates your risk of infection based on recency and proximity of your interaction and recommends suitable action\"\u001b[39;49;00m,\n",
            "  \u001b[94m\"reviewCreatedVersion\"\u001b[39;49;00m: \u001b[33m\"1.4.1\"\u001b[39;49;00m,\n",
            "  \u001b[94m\"reviewId\"\u001b[39;49;00m: \u001b[33m\"gp:AOqpTOFdWMJ_oyeoIT_wOSafcZLDc9EquKXZI9YOwOqzYdPkp6i_K7o7HXRZGnEpktWaR3j_HPcqdVK_ftr60w\"\u001b[39;49;00m,\n",
            "  \u001b[94m\"score\"\u001b[39;49;00m: \u001b[34m1\u001b[39;49;00m,\n",
            "  \u001b[94m\"sortOrder\"\u001b[39;49;00m: \u001b[33m\"most_relevant\"\u001b[39;49;00m,\n",
            "  \u001b[94m\"thumbsUpCount\"\u001b[39;49;00m: \u001b[34m111\u001b[39;49;00m,\n",
            "  \u001b[94m\"userImage\"\u001b[39;49;00m: \u001b[33m\"https://play-lh.googleusercontent.com/-gAOtym8hOCM/AAAAAAAAAAI/AAAAAAAAAAA/AMZuucllAfemGWqDovSghsnwC3SP3kesWA/photo.jpg\"\u001b[39;49;00m,\n",
            "  \u001b[94m\"userName\"\u001b[39;49;00m: \u001b[33m\"MOHAMMED Ali\"\u001b[39;49;00m\n",
            "}\n",
            "\n"
          ],
          "name": "stdout"
        }
      ]
    },
    {
      "cell_type": "code",
      "metadata": {
        "id": "lIGEWECegfko",
        "outputId": "e1239bed-e262-4b6f-b798-a8a36678b524",
        "colab": {
          "base_uri": "https://localhost:8080/"
        }
      },
      "source": [
        "apps_reviews_df = pd.DataFrame(app_reviews)\n",
        "apps_reviews_df.shape"
      ],
      "execution_count": 16,
      "outputs": [
        {
          "output_type": "execute_result",
          "data": {
            "text/plain": [
              "(1200, 12)"
            ]
          },
          "metadata": {
            "tags": []
          },
          "execution_count": 16
        }
      ]
    },
    {
      "cell_type": "code",
      "metadata": {
        "id": "uWHr-lXxgv5p",
        "outputId": "b113c8a1-5c66-46ee-c113-a0f3a3801c09",
        "colab": {
          "base_uri": "https://localhost:8080/",
          "height": 695
        }
      },
      "source": [
        "apps_reviews_df.head()"
      ],
      "execution_count": 17,
      "outputs": [
        {
          "output_type": "execute_result",
          "data": {
            "text/html": [
              "<div>\n",
              "<style scoped>\n",
              "    .dataframe tbody tr th:only-of-type {\n",
              "        vertical-align: middle;\n",
              "    }\n",
              "\n",
              "    .dataframe tbody tr th {\n",
              "        vertical-align: top;\n",
              "    }\n",
              "\n",
              "    .dataframe thead th {\n",
              "        text-align: right;\n",
              "    }\n",
              "</style>\n",
              "<table border=\"1\" class=\"dataframe\">\n",
              "  <thead>\n",
              "    <tr style=\"text-align: right;\">\n",
              "      <th></th>\n",
              "      <th>reviewId</th>\n",
              "      <th>userName</th>\n",
              "      <th>userImage</th>\n",
              "      <th>content</th>\n",
              "      <th>score</th>\n",
              "      <th>thumbsUpCount</th>\n",
              "      <th>reviewCreatedVersion</th>\n",
              "      <th>at</th>\n",
              "      <th>replyContent</th>\n",
              "      <th>repliedAt</th>\n",
              "      <th>sortOrder</th>\n",
              "      <th>appId</th>\n",
              "    </tr>\n",
              "  </thead>\n",
              "  <tbody>\n",
              "    <tr>\n",
              "      <th>0</th>\n",
              "      <td>gp:AOqpTOFdWMJ_oyeoIT_wOSafcZLDc9EquKXZI9YOwOq...</td>\n",
              "      <td>MOHAMMED Ali</td>\n",
              "      <td>https://play-lh.googleusercontent.com/-gAOtym8...</td>\n",
              "      <td>Totally useless app. If it has real time data ...</td>\n",
              "      <td>1</td>\n",
              "      <td>111</td>\n",
              "      <td>1.4.1</td>\n",
              "      <td>2020-10-30 20:22:17</td>\n",
              "      <td>The  Aarogya Setu App detects other devices wi...</td>\n",
              "      <td>2020-10-31 04:27:48</td>\n",
              "      <td>most_relevant</td>\n",
              "      <td>nic.goi.aarogyasetu</td>\n",
              "    </tr>\n",
              "    <tr>\n",
              "      <th>1</th>\n",
              "      <td>gp:AOqpTOEoCVAknSqa9iSs5AbhL9t0f_8cKmxlFiIRG1H...</td>\n",
              "      <td>Ravi Kumar Reddy Bandi</td>\n",
              "      <td>https://play-lh.googleusercontent.com/a-/AOh14...</td>\n",
              "      <td>Not at all usefull, it isn't a dynamic app whi...</td>\n",
              "      <td>1</td>\n",
              "      <td>87</td>\n",
              "      <td>1.4.1</td>\n",
              "      <td>2020-10-30 08:28:39</td>\n",
              "      <td>None</td>\n",
              "      <td>NaT</td>\n",
              "      <td>most_relevant</td>\n",
              "      <td>nic.goi.aarogyasetu</td>\n",
              "    </tr>\n",
              "    <tr>\n",
              "      <th>2</th>\n",
              "      <td>gp:AOqpTOGAU_JskSqjNwAajeOQpGIwDj0z1lFAkZlkMpD...</td>\n",
              "      <td>Ranjan Bharadvaj</td>\n",
              "      <td>https://play-lh.googleusercontent.com/a-/AOh14...</td>\n",
              "      <td>Initially it was worth having it, could see th...</td>\n",
              "      <td>1</td>\n",
              "      <td>9</td>\n",
              "      <td>1.4.1</td>\n",
              "      <td>2020-10-31 02:25:55</td>\n",
              "      <td>None</td>\n",
              "      <td>NaT</td>\n",
              "      <td>most_relevant</td>\n",
              "      <td>nic.goi.aarogyasetu</td>\n",
              "    </tr>\n",
              "    <tr>\n",
              "      <th>3</th>\n",
              "      <td>gp:AOqpTOGlLEzm67t1PpjCzwcWLKDwJgS-1fTpJfsnW67...</td>\n",
              "      <td>Pravin's Cuisine</td>\n",
              "      <td>https://play-lh.googleusercontent.com/a-/AOh14...</td>\n",
              "      <td>Totally useless app. If it has real time data ...</td>\n",
              "      <td>1</td>\n",
              "      <td>4245</td>\n",
              "      <td>1.4.1</td>\n",
              "      <td>2020-09-12 13:18:18</td>\n",
              "      <td>Thanks for your feedback! We deeply respect yo...</td>\n",
              "      <td>2020-09-12 13:44:14</td>\n",
              "      <td>most_relevant</td>\n",
              "      <td>nic.goi.aarogyasetu</td>\n",
              "    </tr>\n",
              "    <tr>\n",
              "      <th>4</th>\n",
              "      <td>gp:AOqpTOHyMTgfF6-a5S8tIY-48AfKKs-2OuhydFlN327...</td>\n",
              "      <td>Johnson P</td>\n",
              "      <td>https://play-lh.googleusercontent.com/-Qd2pEwz...</td>\n",
              "      <td>There is no change in opinion. In fact it is g...</td>\n",
              "      <td>1</td>\n",
              "      <td>313</td>\n",
              "      <td>1.4.1</td>\n",
              "      <td>2020-10-20 17:45:19</td>\n",
              "      <td>We are sorry that we didn't meet your expectat...</td>\n",
              "      <td>2020-07-04 04:51:33</td>\n",
              "      <td>most_relevant</td>\n",
              "      <td>nic.goi.aarogyasetu</td>\n",
              "    </tr>\n",
              "  </tbody>\n",
              "</table>\n",
              "</div>"
            ],
            "text/plain": [
              "                                            reviewId  ...                appId\n",
              "0  gp:AOqpTOFdWMJ_oyeoIT_wOSafcZLDc9EquKXZI9YOwOq...  ...  nic.goi.aarogyasetu\n",
              "1  gp:AOqpTOEoCVAknSqa9iSs5AbhL9t0f_8cKmxlFiIRG1H...  ...  nic.goi.aarogyasetu\n",
              "2  gp:AOqpTOGAU_JskSqjNwAajeOQpGIwDj0z1lFAkZlkMpD...  ...  nic.goi.aarogyasetu\n",
              "3  gp:AOqpTOGlLEzm67t1PpjCzwcWLKDwJgS-1fTpJfsnW67...  ...  nic.goi.aarogyasetu\n",
              "4  gp:AOqpTOHyMTgfF6-a5S8tIY-48AfKKs-2OuhydFlN327...  ...  nic.goi.aarogyasetu\n",
              "\n",
              "[5 rows x 12 columns]"
            ]
          },
          "metadata": {
            "tags": []
          },
          "execution_count": 17
        }
      ]
    },
    {
      "cell_type": "code",
      "metadata": {
        "id": "g-VvsrRPhLm5"
      },
      "source": [
        "apps_reviews_df.to_csv('reviews.csv', index=None, header=True)"
      ],
      "execution_count": 18,
      "outputs": []
    },
    {
      "cell_type": "code",
      "metadata": {
        "id": "BebakRheh7Ae"
      },
      "source": [
        ""
      ],
      "execution_count": null,
      "outputs": []
    }
  ]
}